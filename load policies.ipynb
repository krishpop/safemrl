{
 "cells": [
  {
   "cell_type": "code",
   "execution_count": 29,
   "metadata": {},
   "outputs": [],
   "source": [
    "import gym\n",
    "import gin\n",
    "import os\n",
    "import imageio\n",
    "import tensorflow as tf\n",
    "tf.enable_v2_behavior()\n",
    "\n",
    "from safemrl.envs import minitaur\n",
    "from safemrl.algos import agents\n",
    "from tf_agents.environments import tf_py_environment, gym_wrapper\n",
    "from tf_agents.agents.sac import sac_agent\n",
    "from tf_agents.networks import actor_distribution_network\n",
    "from tf_agents.utils import common\n",
    "gin.enter_interactive_mode()"
   ]
  },
  {
   "cell_type": "code",
   "execution_count": 2,
   "metadata": {},
   "outputs": [
    {
     "name": "stdout",
     "output_type": "stream",
     "text": [
      "WARNING:tensorflow:\n",
      "The TensorFlow contrib module will not be included in TensorFlow 2.0.\n",
      "For more information, please see:\n",
      "  * https://github.com/tensorflow/community/blob/master/rfcs/20180907-contrib-sunset.md\n",
      "  * https://github.com/tensorflow/addons\n",
      "  * https://github.com/tensorflow/io (for I/O related ops)\n",
      "If you depend on functionality not listed there, please file an issue.\n",
      "\n"
     ]
    }
   ],
   "source": [
    "gin.add_config_file_search_path(os.environ.get('CONFIG_DIR'))\n",
    "gin.parse_config_files_and_bindings(['minitaur_default.gin', 'sac.gin'], [])"
   ]
  },
  {
   "cell_type": "code",
   "execution_count": 10,
   "metadata": {
    "pycharm": {}
   },
   "outputs": [],
   "source": [
    "env = minitaur.TaskAgnWrapper(gym.make('MinitaurGoalVelocityEnv-v0'))\n",
    "tf_env = tf_py_environment.TFPyEnvironment(gym_wrapper.GymWrapper(env))"
   ]
  },
  {
   "cell_type": "code",
   "execution_count": 12,
   "metadata": {
    "pycharm": {}
   },
   "outputs": [
    {
     "name": "stdout",
     "output_type": "stream",
     "text": [
      "WARNING:tensorflow:From /Users/krishnan/Documents/Developer/Libraries/agents/tf_agents/distributions/utils.py:92: AffineScalar.__init__ (from tensorflow_probability.python.bijectors.affine_scalar) is deprecated and will be removed after 2020-01-01.\n",
      "Instructions for updating:\n",
      "`AffineScalar` bijector is deprecated; please use `tfb.Shift(loc)(tfb.Scale(...))` instead.\n"
     ]
    }
   ],
   "source": [
    "global_step = tf.compat.v1.train.get_or_create_global_step()\n",
    "time_step_spec = tf_env.time_step_spec()\n",
    "observation_spec = time_step_spec.observation\n",
    "action_spec = tf_env.action_spec()\n",
    "\n",
    "actor_net = actor_distribution_network.ActorDistributionNetwork(\n",
    "        observation_spec,\n",
    "        action_spec,\n",
    "        fc_layer_params=(256, 256),\n",
    "        continuous_projection_net=agents.normal_projection_net)\n",
    "\n",
    "critic_net = agents.CriticNetwork(\n",
    "      (observation_spec, action_spec),\n",
    "      joint_fc_layer_params=(256, 256))\n",
    "\n",
    "tf_agent = sac_agent.SacAgent(\n",
    "    time_step_spec,\n",
    "    action_spec,\n",
    "    actor_network=actor_net,\n",
    "    critic_network=critic_net,\n",
    "    actor_optimizer=tf.compat.v1.train.AdamOptimizer(\n",
    "        learning_rate=3e-4),\n",
    "    critic_optimizer=tf.compat.v1.train.AdamOptimizer(\n",
    "        learning_rate=3e-4),\n",
    "    alpha_optimizer=tf.compat.v1.train.AdamOptimizer(\n",
    "        learning_rate=3e-4),\n",
    "    target_update_tau=0.005,\n",
    "    target_update_period=1,\n",
    "    td_errors_loss_fn=tf.keras.losses.mse,\n",
    "    gamma=0,\n",
    "    reward_scale_factor=1.,\n",
    "    gradient_clipping=1.,\n",
    "    debug_summaries=False,\n",
    "    summarize_grads_and_vars=False,\n",
    "    train_step_counter=global_step)"
   ]
  },
  {
   "cell_type": "code",
   "execution_count": 27,
   "metadata": {
    "pycharm": {}
   },
   "outputs": [
    {
     "data": {
      "text/plain": [
       "1000000"
      ]
     },
     "execution_count": 27,
     "metadata": {},
     "output_type": "execute_result"
    }
   ],
   "source": [
    "global_step.numpy()"
   ]
  },
  {
   "cell_type": "code",
   "execution_count": 26,
   "metadata": {},
   "outputs": [
    {
     "data": {
      "text/plain": [
       "<tensorflow.python.training.tracking.util.CheckpointLoadStatus at 0x14f17cbe0>"
      ]
     },
     "execution_count": 26,
     "metadata": {},
     "output_type": "execute_result"
    }
   ],
   "source": [
    "train_dir = 'tfagents/baselines/sac-1e-5-actor/sac-1e-5-actor/train'\n",
    "train_checkpointer = common.Checkpointer(\n",
    "    ckpt_dir=train_dir,\n",
    "    agent=tf_agent,\n",
    "    global_step=global_step)\n",
    "train_checkpointer.initialize_or_restore()"
   ]
  },
  {
   "cell_type": "code",
   "execution_count": 28,
   "metadata": {
    "pycharm": {}
   },
   "outputs": [],
   "source": [
    "policy = tf_agent.policy"
   ]
  },
  {
   "cell_type": "code",
   "execution_count": 6,
   "metadata": {
    "pycharm": {}
   },
   "outputs": [],
   "source": [
    "traj_len = 0\n",
    "time_step = tf_env.reset()\n",
    "frames = [env.render('rgb_array')]\n",
    "pol_state = policy.get_initial_state(1)\n",
    "while not time_step.is_last():\n",
    "    action_step = policy.action(time_step, pol_state)\n",
    "    action, pol_state = action_step.action, action_step.state\n",
    "    time_step = tf_env.step(action)\n",
    "    frames.append(env.render('rgb_array'))\n",
    "    traj_len += 1"
   ]
  },
  {
   "cell_type": "code",
   "execution_count": 7,
   "metadata": {
    "pycharm": {}
   },
   "outputs": [
    {
     "data": {
      "text/plain": [
       "363"
      ]
     },
     "execution_count": 7,
     "metadata": {},
     "output_type": "execute_result"
    }
   ],
   "source": [
    "traj_len"
   ]
  },
  {
   "cell_type": "code",
   "execution_count": 11,
   "metadata": {
    "pycharm": {}
   },
   "outputs": [
    {
     "name": "stderr",
     "output_type": "stream",
     "text": [
      "W1019 14:12:15.357260 140264089372416 _io.py:352] IMAGEIO FFMPEG_WRITER WARNING: input image is not divisible by macro_block_size=16, resizing from (480, 360) to (480, 368) to ensure video compatibility with most codecs and players. To prevent resizing, make your input image divisible by the macro_block_size or set the macro_block_size to 1 (risking incompatibility).\n"
     ]
    }
   ],
   "source": [
    "i = 0\n",
    "path = './videos/sac/{}-steps/episode-{}.mp4'.format(global_step.numpy(), i)\n",
    "while osp.exists(path):\n",
    "    i += 1\n",
    "    path = './videos/sac/{}-steps/episode-{}.mp4'.format(global_step.numpy(), i)\n",
    "\n",
    "writer = imageio.get_writer(path)\n",
    "\n",
    "for frame in frames:\n",
    "    writer.append_data(frame)\n",
    "\n",
    "writer.close()"
   ]
  }
 ],
 "metadata": {
  "kernelspec": {
   "display_name": "Python 3",
   "language": "python",
   "name": "python3"
  },
  "language_info": {
   "codemirror_mode": {
    "name": "ipython",
    "version": 3
   },
   "file_extension": ".py",
   "mimetype": "text/x-python",
   "name": "python",
   "nbconvert_exporter": "python",
   "pygments_lexer": "ipython3",
   "version": "3.6.6"
  },
  "stem_cell": {
   "cell_type": "raw",
   "metadata": {
    "pycharm": {
     "metadata": false
    }
   },
   "source": "y#%%\n%matplotlib inline\n\nimport sys\nimport gym\nimport os.path as osp\nimport matplotlib.pyplot as plt\nimport tensorflow as tf\nimport imageio\nfrom tqdm import tqdm_notebook as tqdm\n\nfrom tf_agents.agents.sac import sac_agent\nfrom tf_agents.policies import random_tf_policy\nfrom tf_agents.environments import tf_py_environment\nfrom tf_agents.environments import gym_wrapper\nfrom tf_agents.metrics import tf_metrics\nfrom tf_agents.networks import actor_distribution_network\nfrom tf_agents.networks import normal_projection_network\nfrom tf_agents.agents.ddpg import critic_network\nfrom tf_agents.drivers import dynamic_step_driver\n\nimport envs\nimport algos"
  },
  "toc": {
   "base_numbering": 1,
   "nav_menu": {},
   "number_sections": true,
   "sideBar": true,
   "skip_h1_title": false,
   "title_cell": "Table of Contents",
   "title_sidebar": "Contents",
   "toc_cell": false,
   "toc_position": {},
   "toc_section_display": true,
   "toc_window_display": false
  }
 },
 "nbformat": 4,
 "nbformat_minor": 4
}
