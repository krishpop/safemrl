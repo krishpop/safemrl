{
 "cells": [
  {
   "cell_type": "code",
   "execution_count": 10,
   "metadata": {},
   "outputs": [],
   "source": [
    "%matplotlib inline\n",
    "\n",
    "import sys\n",
    "import gym\n",
    "import os.path as osp\n",
    "import matplotlib.pyplot as plt\n",
    "import tensorflow as tf\n",
    "import imageio\n",
    "from tqdm import tqdm_notebook as tqdm\n",
    "\n",
    "from tf_agents.agents.sac import sac_agent\n",
    "from tf_agents.policies import random_tf_policy\n",
    "from tf_agents.environments import tf_py_environment\n",
    "from tf_agents.environments import gym_wrapper\n",
    "from tf_agents.metrics import tf_metrics\n",
    "from tf_agents.networks import actor_distribution_network\n",
    "from tf_agents.networks import normal_projection_network\n",
    "from tf_agents.agents.ddpg import critic_network\n",
    "from tf_agents.drivers import dynamic_step_driver\n",
    "\n",
    "import envs\n",
    "import algos"
   ]
  },
  {
   "cell_type": "code",
   "execution_count": 11,
   "metadata": {},
   "outputs": [],
   "source": [
    "env = gym.make('MinitaurGoalVelocityEnv-v0')\n",
    "tf_env = tf_py_environment.TFPyEnvironment(gym_wrapper.GymWrapper(env))"
   ]
  },
  {
   "cell_type": "code",
   "execution_count": 3,
   "metadata": {},
   "outputs": [],
   "source": [
    "def normal_projection_net(action_spec,\n",
    "                          init_action_stddev=0.35,\n",
    "                          init_means_output_factor=0.1):\n",
    "    del init_action_stddev\n",
    "    return normal_projection_network.NormalProjectionNetwork(\n",
    "          action_spec,\n",
    "          mean_transform=None,\n",
    "          state_dependent_std=True,\n",
    "          init_means_output_factor=init_means_output_factor,\n",
    "          std_transform=sac_agent.std_clip_transform,\n",
    "          scale_distribution=True)"
   ]
  },
  {
   "cell_type": "code",
   "execution_count": 4,
   "metadata": {},
   "outputs": [
    {
     "name": "stderr",
     "output_type": "stream",
     "text": [
      "W1019 14:07:40.541437 140264089372416 module_wrapper.py:137] From /scr1/.virtualenvs/tfagents/lib/python3.6/site-packages/tf_agents/agents/ddpg/critic_network.py:136: The name tf.keras.initializers.RandomUniform is deprecated. Please use tf.compat.v1.keras.initializers.RandomUniform instead.\n",
      "\n",
      "W1019 14:07:40.546610 140264089372416 deprecation.py:323] From /scr1/.virtualenvs/tfagents/lib/python3.6/site-packages/tf_agents/specs/tensor_spec.py:295: SeedStream.__init__ (from tensorflow_probability.python.util.seed_stream) is deprecated and will be removed after 2019-10-01.\n",
      "Instructions for updating:\n",
      "SeedStream has moved to `tfp.util.SeedStream`.\n",
      "W1019 14:07:41.392197 140264089372416 deprecation.py:323] From /scr1/.virtualenvs/tfagents/lib/python3.6/site-packages/tf_agents/distributions/utils.py:92: AffineScalar.__init__ (from tensorflow_probability.python.bijectors.affine_scalar) is deprecated and will be removed after 2020-01-01.\n",
      "Instructions for updating:\n",
      "`AffineScalar` bijector is deprecated; please use `tfb.Shift(loc)(tfb.Scale(...))` instead.\n"
     ]
    }
   ],
   "source": [
    "global_step = tf.compat.v1.train.get_or_create_global_step()\n",
    "time_step_spec = tf_env.time_step_spec()\n",
    "observation_spec = time_step_spec.observation\n",
    "action_spec = tf_env.action_spec()\n",
    "\n",
    "actor_net = actor_distribution_network.ActorDistributionNetwork(\n",
    "        observation_spec,\n",
    "        action_spec,\n",
    "        fc_layer_params=(256, 256),\n",
    "        continuous_projection_net=normal_projection_net)\n",
    "\n",
    "critic_net = critic_network.CriticNetwork(\n",
    "    (observation_spec, action_spec),\n",
    "    joint_fc_layer_params=(256, 256))\n",
    "\n",
    "tf_agent = sac_agent.SacAgent(\n",
    "    time_step_spec,\n",
    "    action_spec,\n",
    "    actor_network=actor_net,\n",
    "    critic_network=critic_net,\n",
    "    actor_optimizer=tf.compat.v1.train.AdamOptimizer(\n",
    "        learning_rate=3e-4),\n",
    "    critic_optimizer=tf.compat.v1.train.AdamOptimizer(\n",
    "        learning_rate=3e-4),\n",
    "    alpha_optimizer=tf.compat.v1.train.AdamOptimizer(\n",
    "        learning_rate=3e-4),\n",
    "    target_update_tau=0.005,\n",
    "    target_update_period=1,\n",
    "    td_errors_loss_fn=tf.keras.losses.mse,\n",
    "    gamma=0,\n",
    "    reward_scale_factor=1.,\n",
    "    gradient_clipping=1.,\n",
    "    debug_summaries=False,\n",
    "    summarize_grads_and_vars=False,\n",
    "    train_step_counter=global_step)"
   ]
  },
  {
   "cell_type": "code",
   "execution_count": 13,
   "metadata": {},
   "outputs": [
    {
     "data": {
      "text/plain": [
       "0"
      ]
     },
     "execution_count": 13,
     "metadata": {},
     "output_type": "execute_result"
    }
   ],
   "source": [
    "global_step.numpy()"
   ]
  },
  {
   "cell_type": "code",
   "execution_count": 5,
   "metadata": {},
   "outputs": [],
   "source": [
    "policy = tf_agent.policy"
   ]
  },
  {
   "cell_type": "code",
   "execution_count": 6,
   "metadata": {},
   "outputs": [],
   "source": [
    "traj_len = 0\n",
    "time_step = tf_env.reset()\n",
    "frames = [env.render('rgb_array')]\n",
    "pol_state = policy.get_initial_state(1)\n",
    "while not time_step.is_last():\n",
    "    action_step = policy.action(time_step, pol_state)\n",
    "    action, pol_state = action_step.action, action_step.state\n",
    "    time_step = tf_env.step(action)\n",
    "    frames.append(env.render('rgb_array'))\n",
    "    traj_len += 1"
   ]
  },
  {
   "cell_type": "code",
   "execution_count": 7,
   "metadata": {},
   "outputs": [
    {
     "data": {
      "text/plain": [
       "363"
      ]
     },
     "execution_count": 7,
     "metadata": {},
     "output_type": "execute_result"
    }
   ],
   "source": [
    "traj_len"
   ]
  },
  {
   "cell_type": "code",
   "execution_count": 11,
   "metadata": {},
   "outputs": [
    {
     "name": "stderr",
     "output_type": "stream",
     "text": [
      "W1019 14:12:15.357260 140264089372416 _io.py:352] IMAGEIO FFMPEG_WRITER WARNING: input image is not divisible by macro_block_size=16, resizing from (480, 360) to (480, 368) to ensure video compatibility with most codecs and players. To prevent resizing, make your input image divisible by the macro_block_size or set the macro_block_size to 1 (risking incompatibility).\n"
     ]
    }
   ],
   "source": [
    "i = 0\n",
    "path = './videos/sac/{}-steps/episode-{}.mp4'.format(global_step.numpy(), i)\n",
    "while osp.exists(path):\n",
    "    i += 1\n",
    "    path = './videos/sac/{}-steps/episode-{}.mp4'.format(global_step.numpy(), i)\n",
    "\n",
    "writer = imageio.get_writer(path)\n",
    "\n",
    "for frame in frames:\n",
    "    writer.append_data(frame)\n",
    "\n",
    "writer.close()"
   ]
  }
 ],
 "metadata": {
  "kernelspec": {
   "display_name": "Python 3",
   "language": "python",
   "name": "python3"
  },
  "language_info": {
   "codemirror_mode": {
    "name": "ipython",
    "version": 3
   },
   "file_extension": ".py",
   "mimetype": "text/x-python",
   "name": "python",
   "nbconvert_exporter": "python",
   "pygments_lexer": "ipython3",
   "version": "3.6.6"
  },
  "toc": {
   "base_numbering": 1,
   "nav_menu": {},
   "number_sections": true,
   "sideBar": true,
   "skip_h1_title": false,
   "title_cell": "Table of Contents",
   "title_sidebar": "Contents",
   "toc_cell": false,
   "toc_position": {},
   "toc_section_display": true,
   "toc_window_display": false
  }
 },
 "nbformat": 4,
 "nbformat_minor": 4
}
